{
 "cells": [
  {
   "cell_type": "markdown",
   "metadata": {},
   "source": [
    "# Zadanie 1 - rozpoznawanie płci"
   ]
  },
  {
   "cell_type": "markdown",
   "metadata": {
    "collapsed": true
   },
   "source": [
    "Napisz program (python), który: rozpoznaje płeć osoby na podstawie nagrania głosu.\n",
    "\n",
    "Jakość algorytmu należy sprawdzić używając zbioru plików.\n",
    "\n",
    "Należy wybrać z niego kilka (około 20, 10 plików zawierający głos kobiety i 10 mężczyzny).\n",
    "\n",
    "Okreś ile przypadków zostało poprawnie zaklasyfikowanych."
   ]
  },
  {
   "cell_type": "code",
   "execution_count": null,
   "metadata": {
    "collapsed": true
   },
   "outputs": [],
   "source": []
  }
 ],
 "metadata": {
  "anaconda-cloud": {},
  "kernelspec": {
   "display_name": "Python 3",
   "language": "python",
   "name": "python3"
  },
  "language_info": {
   "codemirror_mode": {
    "name": "ipython",
    "version": 3
   },
   "file_extension": ".py",
   "mimetype": "text/x-python",
   "name": "python",
   "nbconvert_exporter": "python",
   "pygments_lexer": "ipython3",
   "version": "3.5.0"
  }
 },
 "nbformat": 4,
 "nbformat_minor": 1
}
